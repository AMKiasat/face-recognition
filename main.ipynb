{
  "cells": [
    {
      "cell_type": "code",
      "execution_count": 23,
      "metadata": {
        "id": "J6NWwwFWRpys"
      },
      "outputs": [],
      "source": [
        "import numpy as np\n",
        "import torch\n",
        "import cv2"
      ]
    },
    {
      "cell_type": "code",
      "execution_count": 24,
      "metadata": {
        "colab": {
          "base_uri": "https://localhost:8080/"
        },
        "id": "GGErIzz5cQ74",
        "outputId": "48611c0f-71cb-4a28-90bc-4d24826dbc64"
      },
      "outputs": [
        {
          "name": "stdout",
          "output_type": "stream",
          "text": [
            "PyTorch version: 2.0.1+cu118\n",
            "CUDA version: 11.8\n",
            "cuDNN version: 8700\n"
          ]
        }
      ],
      "source": [
        "print(\"PyTorch version:\", torch.__version__)\n",
        "print(\"CUDA version:\", torch.version.cuda)\n",
        "print(\"cuDNN version:\", torch.backends.cudnn.version())"
      ]
    },
    {
      "cell_type": "code",
      "execution_count": 25,
      "metadata": {
        "colab": {
          "base_uri": "https://localhost:8080/"
        },
        "id": "6WYS1BQzcTaf",
        "outputId": "da6ef69a-d73b-43fd-861a-58fea94cd3ee"
      },
      "outputs": [
        {
          "data": {
            "text/plain": [
              "device(type='cuda', index=0)"
            ]
          },
          "execution_count": 25,
          "metadata": {},
          "output_type": "execute_result"
        }
      ],
      "source": [
        "gpu = torch.device(\"cuda:0\" if torch.cuda.is_available() else \"cpu\")\n",
        "gpu"
      ]
    },
    {
      "cell_type": "markdown",
      "metadata": {
        "id": "6ojG4Qw4cnlU"
      },
      "source": [
        "## This function extracts each frame from the input video"
      ]
    },
    {
      "cell_type": "code",
      "execution_count": 55,
      "metadata": {
        "id": "d04wXvDCB6JU"
      },
      "outputs": [],
      "source": [
        "def extract_frames(video_loc, saving_frames_loc):\n",
        "\n",
        "    cam = cv2.VideoCapture(video_loc)\n",
        "    frame_num = 0\n",
        "    filenames = []\n",
        "\n",
        "    while (True):\n",
        "        ret, frame = cam.read()\n",
        "        if ret:\n",
        "            zero_num = 10\n",
        "            tmp = frame_num\n",
        "            while tmp > 0:\n",
        "                tmp = int(tmp / 10)\n",
        "                zero_num -= 1\n",
        "            zeros = \"\"\n",
        "            for i in range(zero_num):\n",
        "                zeros = str(0) + zeros\n",
        "            name = saving_frames_loc + '/' + zeros + str(frame_num) + '.jpg'\n",
        "            cv2.imwrite(name, frame)\n",
        "            frame_num += 1\n",
        "            filenames.append(name)\n",
        "        else:\n",
        "            break\n",
        "\n",
        "    cam.release()\n",
        "    cv2.destroyAllWindows()\n",
        "    return filenames"
      ]
    },
    {
      "cell_type": "markdown",
      "metadata": {
        "id": "QLfB3NSlclho"
      },
      "source": [
        "## Face Detection\n",
        "\n",
        "Helper code for making plots:"
      ]
    },
    {
      "cell_type": "code",
      "execution_count": 27,
      "metadata": {
        "id": "rCjhlSaCccSZ"
      },
      "outputs": [],
      "source": [
        "%matplotlib inline\n",
        "import matplotlib.pyplot as plt\n",
        "import matplotlib.patches as patches\n",
        "\n",
        "def plot_detections(img, detections, with_keypoints=True):\n",
        "    fig, ax = plt.subplots(1, figsize=(10, 10))\n",
        "    ax.grid(False)\n",
        "    ax.imshow(img)\n",
        "\n",
        "    if isinstance(detections, torch.Tensor):\n",
        "        detections = detections.cpu().numpy()\n",
        "\n",
        "    if detections.ndim == 1:\n",
        "        detections = np.expand_dims(detections, axis=0)\n",
        "\n",
        "    print(\"Found %d faces\" % detections.shape[0])\n",
        "\n",
        "    for i in range(detections.shape[0]):\n",
        "        ymin = detections[i, 0] * img.shape[0]\n",
        "        xmin = detections[i, 1] * img.shape[1]\n",
        "        ymax = detections[i, 2] * img.shape[0]\n",
        "        xmax = detections[i, 3] * img.shape[1]\n",
        "\n",
        "        rect = patches.Rectangle((xmin, ymin), xmax - xmin, ymax - ymin,\n",
        "                                 linewidth=1, edgecolor=\"r\", facecolor=\"none\",\n",
        "                                 alpha=detections[i, 16])\n",
        "        ax.add_patch(rect)\n",
        "\n",
        "        if with_keypoints:\n",
        "            for k in range(6):\n",
        "                kp_x = detections[i, 4 + k*2    ] * img.shape[1]\n",
        "                kp_y = detections[i, 4 + k*2 + 1] * img.shape[0]\n",
        "                circle = patches.Circle((kp_x, kp_y), radius=0.5, linewidth=1,\n",
        "                                        edgecolor=\"lightskyblue\", facecolor=\"none\",\n",
        "                                        alpha=detections[i, 16])\n",
        "                ax.add_patch(circle)\n",
        "\n",
        "    plt.show()"
      ]
    },
    {
      "cell_type": "markdown",
      "metadata": {
        "id": "xgzgOi3Lch7X"
      },
      "source": [
        "## Load the back model of BlazeFace"
      ]
    },
    {
      "cell_type": "code",
      "execution_count": 28,
      "metadata": {
        "id": "0tSPwaSYcgvp"
      },
      "outputs": [],
      "source": [
        "from face_detection.blazeface import BlazeFace\n",
        "\n",
        "back_net = BlazeFace(back_model=True).to(gpu)\n",
        "back_net.load_weights(\"face_detection/blazefaceback.pth\")\n",
        "back_net.load_anchors(\"face_detection/anchorsback.npy\")"
      ]
    },
    {
      "cell_type": "code",
      "execution_count": 47,
      "metadata": {
        "id": "DWt7XrcpeBf_"
      },
      "outputs": [],
      "source": [
        "video_loc = \"face_detection/sample_data/Sample_video.mp4\"\n",
        "frames_loc = \"face_detection/sample_data/frames\"\n",
        "\n",
        "files = extract_frames(video_loc, frames_loc)\n",
        "\n",
        "xback = np.zeros((len(files), 256, 256, 3), dtype=np.uint8)\n",
        "\n",
        "for i, filename in enumerate(files):\n",
        "    img = cv2.imread(filename)\n",
        "    img = cv2.cvtColor(img, cv2.COLOR_BGR2RGB)\n",
        "    xback[i] = cv2.resize(img, (256, 256))\n",
        "\n",
        "back_detections = back_net.predict_on_batch(xback)"
      ]
    },
    {
      "cell_type": "code",
      "execution_count": null,
      "metadata": {},
      "outputs": [],
      "source": [
        "plot_detections(xback[0], back_detections[0])"
      ]
    },
    {
      "cell_type": "markdown",
      "metadata": {},
      "source": [
        "## Face Landmark Detection\n",
        "\n",
        "Using mediapipe for detecting face landmarks"
      ]
    },
    {
      "cell_type": "code",
      "execution_count": 49,
      "metadata": {},
      "outputs": [],
      "source": [
        "import mediapipe as mp\n",
        "\n",
        "mp_face_mesh = mp.solutions.face_mesh\n",
        "face_mesh = mp_face_mesh.FaceMesh(static_image_mode=True, max_num_faces=1, refine_landmarks=True)\n",
        "\n",
        "def detect_face_landmarks(image):\n",
        "\n",
        "    results = face_mesh.process(cv2.cvtColor(image, cv2.COLOR_BGR2RGB))\n",
        "    if not results.multi_face_landmarks:\n",
        "        return None\n",
        "    landmarks = results.multi_face_landmarks[0]\n",
        "    return landmarks\n",
        "\n",
        "def plot_face_landmarks(image, landmarks):\n",
        "    \n",
        "    img_height, img_width, _ = image.shape\n",
        "    for landmark in landmarks.landmark:\n",
        "        x = int(landmark.x * img_width)\n",
        "        y = int(landmark.y * img_height)\n",
        "        cv2.circle(image, (x, y), 1, (0, 255, 0), -1)\n",
        "\n",
        "    plt.figure(figsize=(10, 10))\n",
        "    plt.imshow(image)\n",
        "    plt.show()"
      ]
    },
    {
      "cell_type": "code",
      "execution_count": 53,
      "metadata": {},
      "outputs": [],
      "source": [
        "input_imgs = []\n",
        "landmarks = []\n",
        "\n",
        "# for i, img in enumerate(xback):\n",
        "#     if len(back_detections[i]) > 0:\n",
        "#         lm = detect_face_landmarks(img)\n",
        "#         input_imgs.append(img)\n",
        "#         landmarks.append(lm)\n",
        "    \n",
        "for i, file in enumerate(files):\n",
        "    if len(back_detections[i]) > 0:\n",
        "        img = cv2.imread(file)\n",
        "        img = cv2.cvtColor(img, cv2.COLOR_BGR2RGB)\n",
        "        lm = detect_face_landmarks(img)\n",
        "        input_imgs.append(img)\n",
        "        landmarks.append(lm)\n",
        "\n"
      ]
    },
    {
      "cell_type": "code",
      "execution_count": null,
      "metadata": {},
      "outputs": [],
      "source": [
        "plot_face_landmarks(input_imgs[0], landmarks[0])"
      ]
    }
  ],
  "metadata": {
    "accelerator": "GPU",
    "colab": {
      "gpuType": "T4",
      "provenance": []
    },
    "kernelspec": {
      "display_name": "Python 3",
      "name": "python3"
    },
    "language_info": {
      "codemirror_mode": {
        "name": "ipython",
        "version": 3
      },
      "file_extension": ".py",
      "mimetype": "text/x-python",
      "name": "python",
      "nbconvert_exporter": "python",
      "pygments_lexer": "ipython3",
      "version": "3.11.4"
    }
  },
  "nbformat": 4,
  "nbformat_minor": 0
}
