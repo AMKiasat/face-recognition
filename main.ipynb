{
  "cells": [
    {
      "cell_type": "code",
      "execution_count": 1,
      "metadata": {
        "id": "J6NWwwFWRpys"
      },
      "outputs": [],
      "source": [
        "import numpy as np\n",
        "import torch\n",
        "import cv2"
      ]
    },
    {
      "cell_type": "code",
      "execution_count": 2,
      "metadata": {
        "colab": {
          "base_uri": "https://localhost:8080/"
        },
        "id": "GGErIzz5cQ74",
        "outputId": "48611c0f-71cb-4a28-90bc-4d24826dbc64"
      },
      "outputs": [
        {
          "name": "stdout",
          "output_type": "stream",
          "text": [
            "PyTorch version: 2.0.1+cu118\n",
            "CUDA version: 11.8\n",
            "cuDNN version: 8700\n"
          ]
        }
      ],
      "source": [
        "print(\"PyTorch version:\", torch.__version__)\n",
        "print(\"CUDA version:\", torch.version.cuda)\n",
        "print(\"cuDNN version:\", torch.backends.cudnn.version())"
      ]
    },
    {
      "cell_type": "code",
      "execution_count": 3,
      "metadata": {
        "colab": {
          "base_uri": "https://localhost:8080/"
        },
        "id": "6WYS1BQzcTaf",
        "outputId": "da6ef69a-d73b-43fd-861a-58fea94cd3ee"
      },
      "outputs": [
        {
          "data": {
            "text/plain": [
              "device(type='cuda', index=0)"
            ]
          },
          "execution_count": 3,
          "metadata": {},
          "output_type": "execute_result"
        }
      ],
      "source": [
        "gpu = torch.device(\"cuda:0\" if torch.cuda.is_available() else \"cpu\")\n",
        "gpu"
      ]
    },
    {
      "cell_type": "markdown",
      "metadata": {
        "id": "6ojG4Qw4cnlU"
      },
      "source": [
        "## 1) This function extracts each frame from the input video"
      ]
    },
    {
      "cell_type": "code",
      "execution_count": 4,
      "metadata": {
        "id": "d04wXvDCB6JU"
      },
      "outputs": [],
      "source": [
        "def extract_frames(video_loc, saving_frames_loc):\n",
        "\n",
        "    cam = cv2.VideoCapture(video_loc)\n",
        "    frame_num = 0\n",
        "    filenames = []\n",
        "\n",
        "    while (True):\n",
        "        ret, frame = cam.read()\n",
        "        if ret:\n",
        "            zero_num = 10\n",
        "            tmp = frame_num\n",
        "            while tmp > 0:\n",
        "                tmp = int(tmp / 10)\n",
        "                zero_num -= 1\n",
        "            zeros = \"\"\n",
        "            for i in range(zero_num):\n",
        "                zeros = str(0) + zeros\n",
        "            name = saving_frames_loc + '/' + zeros + str(frame_num) + '.jpg'\n",
        "            cv2.imwrite(name, frame)\n",
        "            frame_num += 1\n",
        "            filenames.append(name)\n",
        "        else:\n",
        "            break\n",
        "\n",
        "    cam.release()\n",
        "    cv2.destroyAllWindows()\n",
        "    return filenames"
      ]
    },
    {
      "cell_type": "markdown",
      "metadata": {
        "id": "QLfB3NSlclho"
      },
      "source": [
        "## 2) Face Detection\n",
        "\n",
        "Helper code for making plots:"
      ]
    },
    {
      "cell_type": "code",
      "execution_count": 5,
      "metadata": {
        "id": "rCjhlSaCccSZ"
      },
      "outputs": [],
      "source": [
        "%matplotlib inline\n",
        "import matplotlib.pyplot as plt\n",
        "import matplotlib.patches as patches\n",
        "\n",
        "def plot_detections(img, detections, with_keypoints=True):\n",
        "    fig, ax = plt.subplots(1, figsize=(10, 10))\n",
        "    ax.grid(False)\n",
        "    ax.imshow(img)\n",
        "\n",
        "    if isinstance(detections, torch.Tensor):\n",
        "        detections = detections.cpu().numpy()\n",
        "\n",
        "    if detections.ndim == 1:\n",
        "        detections = np.expand_dims(detections, axis=0)\n",
        "\n",
        "    print(\"Found %d faces\" % detections.shape[0])\n",
        "\n",
        "    for i in range(detections.shape[0]):\n",
        "        ymin = detections[i, 0] * img.shape[0]\n",
        "        xmin = detections[i, 1] * img.shape[1]\n",
        "        ymax = detections[i, 2] * img.shape[0]\n",
        "        xmax = detections[i, 3] * img.shape[1]\n",
        "\n",
        "        rect = patches.Rectangle((xmin, ymin), xmax - xmin, ymax - ymin,\n",
        "                                 linewidth=1, edgecolor=\"r\", facecolor=\"none\",\n",
        "                                 alpha=detections[i, 16])\n",
        "        ax.add_patch(rect)\n",
        "\n",
        "        if with_keypoints:\n",
        "            for k in range(6):\n",
        "                kp_x = detections[i, 4 + k*2    ] * img.shape[1]\n",
        "                kp_y = detections[i, 4 + k*2 + 1] * img.shape[0]\n",
        "                circle = patches.Circle((kp_x, kp_y), radius=0.5, linewidth=1,\n",
        "                                        edgecolor=\"lightskyblue\", facecolor=\"none\",\n",
        "                                        alpha=detections[i, 16])\n",
        "                ax.add_patch(circle)\n",
        "\n",
        "    plt.show()"
      ]
    },
    {
      "cell_type": "markdown",
      "metadata": {
        "id": "xgzgOi3Lch7X"
      },
      "source": [
        "## Load the back model of BlazeFace"
      ]
    },
    {
      "cell_type": "code",
      "execution_count": 6,
      "metadata": {
        "id": "0tSPwaSYcgvp"
      },
      "outputs": [],
      "source": [
        "from face_detection.blazeface import BlazeFace\n",
        "\n",
        "back_net = BlazeFace(back_model=True).to(gpu)\n",
        "back_net.load_weights(\"face_detection/blazefaceback.pth\")\n",
        "back_net.load_anchors(\"face_detection/anchorsback.npy\")"
      ]
    },
    {
      "cell_type": "code",
      "execution_count": 7,
      "metadata": {
        "id": "DWt7XrcpeBf_"
      },
      "outputs": [],
      "source": [
        "video_loc = \"face_detection/sample_data/Sample_video.mp4\"\n",
        "frames_loc = \"face_detection/sample_data/frames\"\n",
        "\n",
        "files = extract_frames(video_loc, frames_loc)\n",
        "\n",
        "xback = np.zeros((len(files), 256, 256, 3), dtype=np.uint8)\n",
        "\n",
        "for i, filename in enumerate(files):\n",
        "    img = cv2.imread(filename)\n",
        "    img = cv2.cvtColor(img, cv2.COLOR_BGR2RGB)\n",
        "    xback[i] = cv2.resize(img, (256, 256))\n",
        "\n",
        "back_detections = back_net.predict_on_batch(xback)"
      ]
    },
    {
      "cell_type": "code",
      "execution_count": null,
      "metadata": {},
      "outputs": [],
      "source": [
        "plot_detections(xback[0], back_detections[0])"
      ]
    },
    {
      "cell_type": "markdown",
      "metadata": {},
      "source": [
        "## 3) Face Landmark Detection\n",
        "\n",
        "Using mediapipe for detecting face landmarks"
      ]
    },
    {
      "cell_type": "code",
      "execution_count": 9,
      "metadata": {},
      "outputs": [],
      "source": [
        "import mediapipe as mp\n",
        "\n",
        "mp_face_mesh = mp.solutions.face_mesh\n",
        "face_mesh = mp_face_mesh.FaceMesh(static_image_mode=True, max_num_faces=1, refine_landmarks=True)\n",
        "\n",
        "def detect_face_landmarks(image):\n",
        "\n",
        "    results = face_mesh.process(image)\n",
        "    if not results.multi_face_landmarks:\n",
        "        return None\n",
        "    landmarks = results.multi_face_landmarks[0]\n",
        "    return landmarks\n",
        "\n",
        "def plot_face_landmarks(image, landmarks):\n",
        "    \n",
        "    img_height, img_width, _ = image.shape\n",
        "    for landmark in landmarks.landmark:\n",
        "        x = int(landmark.x * img_width)\n",
        "        y = int(landmark.y * img_height)\n",
        "        cv2.circle(image, (x, y), 1, (0, 255, 0), -1)\n",
        "\n",
        "    plt.figure(figsize=(10, 10))\n",
        "    plt.imshow(image)\n",
        "    plt.show()"
      ]
    },
    {
      "cell_type": "code",
      "execution_count": 10,
      "metadata": {},
      "outputs": [
        {
          "name": "stderr",
          "output_type": "stream",
          "text": [
            "c:\\Users\\Mojtaba\\AppData\\Local\\Programs\\Python\\Python311\\Lib\\site-packages\\google\\protobuf\\symbol_database.py:55: UserWarning: SymbolDatabase.GetPrototype() is deprecated. Please use message_factory.GetMessageClass() instead. SymbolDatabase.GetPrototype() will be removed soon.\n",
            "  warnings.warn('SymbolDatabase.GetPrototype() is deprecated. Please '\n"
          ]
        }
      ],
      "source": [
        "input_imgs = []\n",
        "landmarks = []\n",
        "\n",
        "# for i, img in enumerate(xback):\n",
        "#     if len(back_detections[i]) > 0:\n",
        "#         lm = detect_face_landmarks(img)\n",
        "#         input_imgs.append(img)\n",
        "#         landmarks.append(lm)\n",
        "    \n",
        "for i, file in enumerate(files):\n",
        "    if len(back_detections[i]) > 0:\n",
        "        img = cv2.imread(file)\n",
        "        img = cv2.cvtColor(img, cv2.COLOR_BGR2RGB)\n",
        "        lm = detect_face_landmarks(img)\n",
        "        input_imgs.append(img)\n",
        "        landmarks.append(lm)\n",
        "\n"
      ]
    },
    {
      "cell_type": "code",
      "execution_count": null,
      "metadata": {},
      "outputs": [],
      "source": [
        "plot_face_landmarks(input_imgs[0], landmarks[0])"
      ]
    },
    {
      "cell_type": "markdown",
      "metadata": {},
      "source": [
        "## 4) Face Alignment"
      ]
    },
    {
      "cell_type": "code",
      "execution_count": null,
      "metadata": {},
      "outputs": [],
      "source": [
        "def align_face(image, landmarks, target_size=(256, 256)):\n",
        "\n",
        "    target_points = np.array([\n",
        "        [0.3 * target_size[0], 0.4 * target_size[1]],\n",
        "        [0.7 * target_size[0], 0.4 * target_size[1]],\n",
        "        [0.5 * target_size[0], 0.6 * target_size[1]],\n",
        "        [0.5 * target_size[0], 0.75 * target_size[1]]\n",
        "    ], dtype=np.float32)\n",
        "    \n",
        "    landmark_points = np.array([\n",
        "        [landmarks.landmark[33].x * image.shape[1], \n",
        "         landmarks.landmark[33].y * image.shape[0]], \n",
        "        [landmarks.landmark[263].x * image.shape[1],\n",
        "         landmarks.landmark[263].y * image.shape[0]],\n",
        "        [landmarks.landmark[1].x * image.shape[1], \n",
        "         landmarks.landmark[1].y * image.shape[0]],  \n",
        "        [(landmarks.landmark[13].x + landmarks.landmark[14].x) / 2 * image.shape[1], \n",
        "         (landmarks.landmark[13].y + landmarks.landmark[14].y) / 2 * image.shape[0]]\n",
        "    ], dtype=np.float32)\n",
        "    \n",
        "    transformation_matrix = cv2.getAffineTransform(landmark_points[:3], target_points[:3])\n",
        "    \n",
        "    aligned_face = cv2.warpAffine(image, transformation_matrix, target_size)\n",
        "    \n",
        "    return aligned_face\n",
        "\n",
        "aligned_face = []\n",
        "for i in range(len(input_imgs)):\n",
        "    af = align_face(input_imgs[i], landmarks[i])\n",
        "    aligned_face.append(af)\n",
        "\n",
        "# plt.figure(figsize=(5, 5))\n",
        "plt.imshow(aligned_face[1])\n",
        "plt.show()\n"
      ]
    },
    {
      "cell_type": "markdown",
      "metadata": {},
      "source": [
        "## 5) Face Recognition"
      ]
    },
    {
      "cell_type": "code",
      "execution_count": 13,
      "metadata": {},
      "outputs": [],
      "source": [
        "from ellzaf_ml.models import GhostFaceNetsV2\n",
        "\n",
        "IMAGE_SIZE = 112\n",
        "\n",
        "# Load the GhostFaceNets model (PyTorch version)\n",
        "ghostface_model = GhostFaceNetsV2(image_size=IMAGE_SIZE, width=1, dropout=0.)\n",
        "ghostface_model.eval()\n",
        "\n",
        "def recognize_faces(aligned_faces):\n",
        "    \"\"\"Recognize faces using GhostFaceNets.\"\"\"\n",
        "    embeddings = []\n",
        "    with torch.no_grad():\n",
        "        for face in aligned_faces:\n",
        "            face_tensor = torch.from_numpy(face).permute(2, 0, 1).unsqueeze(0).float() / 255.0  # Convert image to torch tensor\n",
        "            face_tensor = torch.nn.functional.interpolate(face_tensor, size=(112, 112))  # Resize to 112x112\n",
        "            embedding = ghostface_model(face_tensor)\n",
        "            embeddings.append(embedding.cpu().numpy())\n",
        "    \n",
        "    return embeddings\n",
        "\n",
        "face_embeddings = recognize_faces(aligned_face)\n"
      ]
    },
    {
      "cell_type": "code",
      "execution_count": 1,
      "metadata": {},
      "outputs": [],
      "source": [
        "# import numpy as np\n",
        "# import matplotlib.pyplot as plt\n",
        "# from sklearn.manifold import TSNE\n",
        "# import cv2\n",
        "\n",
        "# def plot_embeddings_on_image(image, embeddings):\n",
        "#     \"\"\"Plot reduced embeddings on the input image.\"\"\"\n",
        "#     # Reduce embeddings to 2D using t-SNE\n",
        "#     embeddings = np.array(embeddings)\n",
        "#     print(\"Embeddings shape:\", embeddings.shape)\n",
        "\n",
        "#     if len(embeddings.shape) != 2:\n",
        "#         raise ValueError(\"Embeddings should be a 2D array of shape (n_samples, n_features)\")\n",
        "    \n",
        "#     # Set perplexity to a value less than the number of samples\n",
        "#     perplexity = min(embeddings.shape[0] - 1, 5) \n",
        "\n",
        "#     tsne = TSNE(n_components=2, random_state=42, perplexity=perplexity)\n",
        "#     embeddings_2d = tsne.fit_transform(embeddings)\n",
        "    \n",
        "#     plt.imshow(cv2.cvtColor(image, cv2.COLOR_BGR2RGB))\n",
        "    \n",
        "#     for (x, y) in embeddings_2d:\n",
        "#         # Plot the reduced embedding as a text label at random locations on the image\n",
        "#         plt.text(np.random.randint(0, image.shape[1]), np.random.randint(0, image.shape[0]), \n",
        "#                  f\"({x:.2f}, {y:.2f})\", color='red', fontsize=12)\n",
        "\n",
        "#     plt.title(\"t-SNE Embedding Visualization\")\n",
        "#     plt.axis(\"off\")\n",
        "#     plt.show()\n",
        "\n",
        "# plot_embeddings_on_image(input_imgs[0], face_embeddings[0])\n"
      ]
    }
  ],
  "metadata": {
    "accelerator": "GPU",
    "colab": {
      "gpuType": "T4",
      "provenance": []
    },
    "kernelspec": {
      "display_name": "Python 3",
      "name": "python3"
    },
    "language_info": {
      "codemirror_mode": {
        "name": "ipython",
        "version": 3
      },
      "file_extension": ".py",
      "mimetype": "text/x-python",
      "name": "python",
      "nbconvert_exporter": "python",
      "pygments_lexer": "ipython3",
      "version": "3.11.4"
    }
  },
  "nbformat": 4,
  "nbformat_minor": 0
}
