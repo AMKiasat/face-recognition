{
  "cells": [
    {
      "cell_type": "code",
      "execution_count": 11,
      "metadata": {
        "id": "J6NWwwFWRpys"
      },
      "outputs": [],
      "source": [
        "import numpy as np\n",
        "import torch\n",
        "import cv2"
      ]
    },
    {
      "cell_type": "code",
      "execution_count": 12,
      "metadata": {
        "colab": {
          "base_uri": "https://localhost:8080/"
        },
        "id": "GGErIzz5cQ74",
        "outputId": "48611c0f-71cb-4a28-90bc-4d24826dbc64"
      },
      "outputs": [
        {
          "name": "stdout",
          "output_type": "stream",
          "text": [
            "PyTorch version: 2.0.1+cu118\n",
            "CUDA version: 11.8\n",
            "cuDNN version: 8700\n"
          ]
        }
      ],
      "source": [
        "print(\"PyTorch version:\", torch.__version__)\n",
        "print(\"CUDA version:\", torch.version.cuda)\n",
        "print(\"cuDNN version:\", torch.backends.cudnn.version())"
      ]
    },
    {
      "cell_type": "code",
      "execution_count": 13,
      "metadata": {
        "colab": {
          "base_uri": "https://localhost:8080/"
        },
        "id": "6WYS1BQzcTaf",
        "outputId": "da6ef69a-d73b-43fd-861a-58fea94cd3ee"
      },
      "outputs": [
        {
          "data": {
            "text/plain": [
              "device(type='cuda', index=0)"
            ]
          },
          "execution_count": 13,
          "metadata": {},
          "output_type": "execute_result"
        }
      ],
      "source": [
        "gpu = torch.device(\"cuda:0\" if torch.cuda.is_available() else \"cpu\")\n",
        "gpu"
      ]
    },
    {
      "cell_type": "markdown",
      "metadata": {
        "id": "6ojG4Qw4cnlU"
      },
      "source": [
        "## This function extracts each frame from the input video"
      ]
    },
    {
      "cell_type": "code",
      "execution_count": 44,
      "metadata": {
        "id": "d04wXvDCB6JU"
      },
      "outputs": [],
      "source": [
        "def extract_frames(video_loc, saving_frames_loc):\n",
        "    \"\"\"\n",
        "    Extracts frames from a video\n",
        "    :param video_loc: Path to input video\n",
        "    :param saving_frames_loc: Path to output frames, must be a folder\n",
        "    \"\"\"\n",
        "\n",
        "    cam = cv2.VideoCapture(video_loc)\n",
        "    frame_num = 0\n",
        "    filenames = []\n",
        "\n",
        "    while (True):\n",
        "        ret, frame = cam.read()\n",
        "        if ret:\n",
        "            zero_num = 10\n",
        "            tmp = frame_num\n",
        "            while tmp > 0:\n",
        "                tmp = int(tmp / 10)\n",
        "                zero_num -= 1\n",
        "            zeros = \"\"\n",
        "            for i in range(zero_num):\n",
        "                zeros = str(0) + zeros\n",
        "            name = saving_frames_loc + '/' + zeros + str(frame_num) + '.jpg'\n",
        "            print(name)\n",
        "            cv2.imwrite(name, frame)\n",
        "            frame_num += 1\n",
        "            filenames.append(name)\n",
        "        else:\n",
        "            break\n",
        "\n",
        "    cam.release()\n",
        "    cv2.destroyAllWindows()\n",
        "    return filenames"
      ]
    },
    {
      "cell_type": "markdown",
      "metadata": {
        "id": "QLfB3NSlclho"
      },
      "source": [
        "Helper code for making plots:"
      ]
    },
    {
      "cell_type": "code",
      "execution_count": 16,
      "metadata": {
        "id": "rCjhlSaCccSZ"
      },
      "outputs": [],
      "source": [
        "%matplotlib inline\n",
        "import matplotlib.pyplot as plt\n",
        "import matplotlib.patches as patches\n",
        "\n",
        "def plot_detections(img, detections, with_keypoints=True):\n",
        "    fig, ax = plt.subplots(1, figsize=(10, 10))\n",
        "    ax.grid(False)\n",
        "    ax.imshow(img)\n",
        "\n",
        "    if isinstance(detections, torch.Tensor):\n",
        "        detections = detections.cpu().numpy()\n",
        "\n",
        "    if detections.ndim == 1:\n",
        "        detections = np.expand_dims(detections, axis=0)\n",
        "\n",
        "    print(\"Found %d faces\" % detections.shape[0])\n",
        "\n",
        "    for i in range(detections.shape[0]):\n",
        "        ymin = detections[i, 0] * img.shape[0]\n",
        "        xmin = detections[i, 1] * img.shape[1]\n",
        "        ymax = detections[i, 2] * img.shape[0]\n",
        "        xmax = detections[i, 3] * img.shape[1]\n",
        "\n",
        "        rect = patches.Rectangle((xmin, ymin), xmax - xmin, ymax - ymin,\n",
        "                                 linewidth=1, edgecolor=\"r\", facecolor=\"none\",\n",
        "                                 alpha=detections[i, 16])\n",
        "        ax.add_patch(rect)\n",
        "\n",
        "        if with_keypoints:\n",
        "            for k in range(6):\n",
        "                kp_x = detections[i, 4 + k*2    ] * img.shape[1]\n",
        "                kp_y = detections[i, 4 + k*2 + 1] * img.shape[0]\n",
        "                circle = patches.Circle((kp_x, kp_y), radius=0.5, linewidth=1,\n",
        "                                        edgecolor=\"lightskyblue\", facecolor=\"none\",\n",
        "                                        alpha=detections[i, 16])\n",
        "                ax.add_patch(circle)\n",
        "\n",
        "    plt.show()"
      ]
    },
    {
      "cell_type": "markdown",
      "metadata": {
        "id": "xgzgOi3Lch7X"
      },
      "source": [
        "## Load the back model of BlazeFace"
      ]
    },
    {
      "cell_type": "code",
      "execution_count": 26,
      "metadata": {
        "id": "0tSPwaSYcgvp"
      },
      "outputs": [],
      "source": [
        "from blazeface import BlazeFace\n",
        "\n",
        "back_net = BlazeFace(back_model=True).to(gpu)\n",
        "back_net.load_weights(\"face_detection/blazefaceback.pth\")\n",
        "back_net.load_anchors(\"face_detection/anchorsback.npy\")"
      ]
    },
    {
      "cell_type": "code",
      "execution_count": null,
      "metadata": {
        "id": "DWt7XrcpeBf_"
      },
      "outputs": [],
      "source": [
        "video_loc = \"face_detection/sample_data/Sample_video.mp4\"\n",
        "frames_loc = \"face_detection/sample_data/frames\"\n",
        "\n",
        "files = extract_frames(video_loc, frames_loc)\n",
        "\n",
        "xback = np.zeros((len(files), 256, 256, 3), dtype=np.uint8)\n",
        "\n",
        "for i, filename in enumerate(files):\n",
        "    img = cv2.imread(filename)\n",
        "    img = cv2.cvtColor(img, cv2.COLOR_BGR2RGB)\n",
        "    xback[i] = cv2.resize(img, (256, 256))"
      ]
    },
    {
      "cell_type": "code",
      "execution_count": 46,
      "metadata": {
        "id": "CtCJibBMhVIO"
      },
      "outputs": [],
      "source": [
        "back_detections = back_net.predict_on_batch(xback)"
      ]
    },
    {
      "cell_type": "code",
      "execution_count": null,
      "metadata": {
        "colab": {
          "base_uri": "https://localhost:8080/",
          "height": 851
        },
        "id": "s91CApr1hXC6",
        "outputId": "3f7dbc1e-f37b-4625-de7c-a969f3395eed"
      },
      "outputs": [],
      "source": [
        "plot_detections(xback[0], back_detections[0])"
      ]
    },
    {
      "cell_type": "code",
      "execution_count": null,
      "metadata": {
        "colab": {
          "base_uri": "https://localhost:8080/",
          "height": 851
        },
        "id": "Ob3I-dwEhY1m",
        "outputId": "7905eb77-1bef-48e2-a790-a6693fef287d"
      },
      "outputs": [],
      "source": [
        "plot_detections(xback[50], back_detections[50])"
      ]
    },
    {
      "cell_type": "code",
      "execution_count": null,
      "metadata": {
        "colab": {
          "base_uri": "https://localhost:8080/",
          "height": 851
        },
        "id": "ELeLwVpBhZZM",
        "outputId": "a8cd712f-829e-4dba-eb71-c3bd2dafbb6b"
      },
      "outputs": [],
      "source": [
        "plot_detections(xback[100], back_detections[100])"
      ]
    }
  ],
  "metadata": {
    "accelerator": "GPU",
    "colab": {
      "gpuType": "T4",
      "provenance": []
    },
    "kernelspec": {
      "display_name": "Python 3",
      "name": "python3"
    },
    "language_info": {
      "codemirror_mode": {
        "name": "ipython",
        "version": 3
      },
      "file_extension": ".py",
      "mimetype": "text/x-python",
      "name": "python",
      "nbconvert_exporter": "python",
      "pygments_lexer": "ipython3",
      "version": "3.11.4"
    }
  },
  "nbformat": 4,
  "nbformat_minor": 0
}
