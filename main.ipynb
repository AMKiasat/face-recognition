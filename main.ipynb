{
  "nbformat": 4,
  "nbformat_minor": 0,
  "metadata": {
    "colab": {
      "provenance": []
    },
    "kernelspec": {
      "name": "python3",
      "display_name": "Python 3"
    },
    "language_info": {
      "name": "python"
    }
  },
  "cells": [
    {
      "cell_type": "code",
      "source": [
        "import cv2"
      ],
      "metadata": {
        "id": "J6NWwwFWRpys"
      },
      "execution_count": 25,
      "outputs": []
    },
    {
      "cell_type": "code",
      "execution_count": 26,
      "metadata": {
        "id": "d04wXvDCB6JU"
      },
      "outputs": [],
      "source": [
        "def extract_frames(video_loc, saving_frames_loc, terminal_text):\n",
        "    \"\"\"\n",
        "    Extracts frames from a video\n",
        "    :param video_loc: Path to input video\n",
        "    :param saving_frames_loc: Path to output frames, must be a folder\n",
        "    \"\"\"\n",
        "\n",
        "    cam = cv2.VideoCapture(video_loc)\n",
        "    frame_num = 0\n",
        "\n",
        "    while (True):\n",
        "        ret, frame = cam.read()\n",
        "        if ret:\n",
        "            zero_num = 10\n",
        "            tmp = frame_num\n",
        "            while tmp > 0:\n",
        "                tmp = int(tmp / 10)\n",
        "                zero_num -= 1\n",
        "            zeros = \"\"\n",
        "            for i in range(zero_num):\n",
        "                zeros = str(0) + zeros\n",
        "            name = saving_frames_loc + zeros + str(frame_num) + '.jpg'\n",
        "            cv2.imwrite(name, frame)\n",
        "            frame_num += 1\n",
        "        else:\n",
        "            break\n",
        "\n",
        "    cam.release()\n",
        "    cv2.destroyAllWindows()"
      ]
    }
  ]
}